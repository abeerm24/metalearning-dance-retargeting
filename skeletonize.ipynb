{
 "cells": [
  {
   "cell_type": "code",
   "execution_count": 1,
   "metadata": {},
   "outputs": [
    {
     "name": "stderr",
     "output_type": "stream",
     "text": [
      "c:\\Users\\ASUS\\AppData\\Local\\Programs\\Python\\Python39\\lib\\site-packages\\google\\protobuf\\symbol_database.py:55: UserWarning: SymbolDatabase.GetPrototype() is deprecated. Please use message_factory.GetMessageClass() instead. SymbolDatabase.GetPrototype() will be removed soon.\n",
      "  warnings.warn('SymbolDatabase.GetPrototype() is deprecated. Please '\n"
     ]
    }
   ],
   "source": [
    "import cv2\n",
    "import mediapipe as mp\n",
    "\n",
    "# Initialize MediaPipe Pose and Drawing modules\n",
    "mp_pose = mp.solutions.pose\n",
    "mp_drawing = mp.solutions.drawing_utils\n",
    "\n",
    "# Setup Pose Estimation with MediaPipe\n",
    "pose = mp_pose.Pose()\n",
    "\n",
    "# Load image from a file path\n",
    "image_path = 'test-dancer.jpeg'  # Replace with your image path\n",
    "image = cv2.imread(image_path)\n",
    "\n",
    "# Convert the BGR image to RGB before processing\n",
    "image_rgb = cv2.cvtColor(image, cv2.COLOR_BGR2RGB)\n",
    "\n",
    "# Process the image and find the pose\n",
    "results = pose.process(image_rgb)\n",
    "\n",
    "# If landmarks are detected, draw them on the image\n",
    "if results.pose_landmarks:\n",
    "    # Draw pose landmarks and skeleton on the image\n",
    "    mp_drawing.draw_landmarks(\n",
    "        image, \n",
    "        results.pose_landmarks, \n",
    "        mp_pose.POSE_CONNECTIONS,\n",
    "        mp_drawing.DrawingSpec(color=(0, 255, 0), thickness=2, circle_radius=2),  # landmarks\n",
    "        mp_drawing.DrawingSpec(color=(0, 0, 255), thickness=2, circle_radius=2)   # connections\n",
    "    )\n",
    "\n",
    "# Display the image with landmarks\n",
    "cv2.imshow('MediaPipe Pose Detection', image)\n",
    "\n",
    "# Wait for a key press and close the window\n",
    "cv2.waitKey(0)\n",
    "cv2.destroyAllWindows()\n"
   ]
  },
  {
   "cell_type": "code",
   "execution_count": 2,
   "metadata": {},
   "outputs": [],
   "source": [
    "import cv2\n",
    "import mediapipe as mp\n",
    "import numpy as np\n",
    "\n",
    "# Initialize MediaPipe Pose and Drawing modules\n",
    "mp_pose = mp.solutions.pose\n",
    "mp_drawing = mp.solutions.drawing_utils\n",
    "\n",
    "# Setup Pose Estimation with MediaPipe\n",
    "pose = mp_pose.Pose()\n",
    "\n",
    "# Load image from a file path\n",
    "image_path = 'test-dancer.jpeg'  # Replace with your image path\n",
    "image = cv2.imread(image_path)\n",
    "\n",
    "# Convert the BGR image to RGB before processing\n",
    "image_rgb = cv2.cvtColor(image, cv2.COLOR_BGR2RGB)\n",
    "\n",
    "# Process the image and find the pose\n",
    "results = pose.process(image_rgb)\n",
    "\n",
    "# Create a fresh black image of the same size as the input image\n",
    "height, width, _ = image.shape\n",
    "black_image = np.zeros((height, width, 3), dtype=np.uint8)\n",
    "\n",
    "# If landmarks are detected, draw white dots and lines on the black image\n",
    "if results.pose_landmarks:\n",
    "    # Draw pose landmarks and skeleton on the black image\n",
    "    mp_drawing.draw_landmarks(\n",
    "        black_image, \n",
    "        results.pose_landmarks, \n",
    "        mp_pose.POSE_CONNECTIONS,\n",
    "        mp_drawing.DrawingSpec(color=(255, 255, 255), thickness=2, circle_radius=2),  # White dots for landmarks\n",
    "        mp_drawing.DrawingSpec(color=(255, 255, 255), thickness=2, circle_radius=2)   # White lines for connections\n",
    "    )\n",
    "\n",
    "# Save the black image with skeleton overlay\n",
    "output_image_path = 'pose_skeleton.png'  # Specify the output image file path\n",
    "cv2.imwrite(output_image_path, black_image)\n",
    "\n",
    "# Display the black image with skeleton\n",
    "cv2.imshow('Skeleton on Black Image', black_image)\n",
    "cv2.waitKey(0)\n",
    "cv2.destroyAllWindows()\n"
   ]
  }
 ],
 "metadata": {
  "kernelspec": {
   "display_name": "Python 3",
   "language": "python",
   "name": "python3"
  },
  "language_info": {
   "codemirror_mode": {
    "name": "ipython",
    "version": 3
   },
   "file_extension": ".py",
   "mimetype": "text/x-python",
   "name": "python",
   "nbconvert_exporter": "python",
   "pygments_lexer": "ipython3",
   "version": "3.9.13"
  }
 },
 "nbformat": 4,
 "nbformat_minor": 2
}
