{
 "cells": [
  {
   "cell_type": "code",
   "execution_count": 1,
   "metadata": {},
   "outputs": [],
   "source": [
    "import numpy as np\n",
    "import cv2\n",
    "import mediapipe as mp\n",
    "import os"
   ]
  },
  {
   "cell_type": "code",
   "execution_count": 2,
   "metadata": {},
   "outputs": [],
   "source": [
    "# Initialize MediaPipe Pose and Drawing modules\n",
    "mp_pose = mp.solutions.pose\n",
    "mp_drawing = mp.solutions.drawing_utils\n",
    "\n",
    "# Setup Pose Estimation with MediaPipe\n",
    "pose = mp_pose.Pose()\n",
    "\n",
    "def skeletonize(img):\n",
    "    image_rgb = cv2.cvtColor(img, cv2.COLOR_BGR2RGB)\n",
    "    results = pose.process(image_rgb)\n",
    "\n",
    "    height, width, _ = img.shape\n",
    "    black_image = np.zeros((height, width, 3), dtype=np.uint8)\n",
    "\n",
    "    if results.pose_landmarks:\n",
    "    # Draw pose landmarks and skeleton on the black image\n",
    "        mp_drawing.draw_landmarks(\n",
    "            black_image, \n",
    "            results.pose_landmarks, \n",
    "            mp_pose.POSE_CONNECTIONS,\n",
    "            mp_drawing.DrawingSpec(color=(255, 255, 255), thickness=2, circle_radius=1),  # White dots for landmarks\n",
    "            mp_drawing.DrawingSpec(color=(255, 255, 255), thickness=2, circle_radius=2)   # White lines for connections\n",
    "        )\n",
    "    \n",
    "    return black_image"
   ]
  },
  {
   "cell_type": "code",
   "execution_count": 4,
   "metadata": {},
   "outputs": [],
   "source": [
    "for i in range(1,5):\n",
    "    vid_path = \"vid-\" + str(i) + \".mp4\"\n",
    "    vidcap = cv2.VideoCapture(vid_path)\n",
    "    success,image = vidcap.read()\n",
    "    image = cv2.resize(image, (256*image.shape[1]//image.shape[0], 256))\n",
    "    count = 1\n",
    "    while success:\n",
    "        img_dir_path = \"../meta-video-pose dataset/data-meta/train_\" + str(i) + \"_img\"\n",
    "        if not os.path.isdir(img_dir_path):\n",
    "            os.mkdir(img_dir_path)\n",
    "        img_write_path = img_dir_path + \"/img_\"+ str(count) + str(\".png\")\n",
    "\n",
    "        cv2.imwrite(img_write_path, image)     # save frame   \n",
    "\n",
    "        skeleton = skeletonize(image)\n",
    "\n",
    "        pose_dir_path = \"../meta-video-pose dataset/data-meta/train_\" + str(i) + \"_label\"\n",
    "        if not os.path.isdir(pose_dir_path):\n",
    "            os.mkdir(pose_dir_path)\n",
    "        pose_write_path = pose_dir_path + \"/label_\" + str(count) + str(\".png\")\n",
    "\n",
    "        cv2.imwrite(pose_write_path, skeleton)     # save skeleton\n",
    "\n",
    "        success, image = vidcap.read()\n",
    "        count += 1\n",
    "        if count > 3000:\n",
    "            break"
   ]
  },
  {
   "cell_type": "code",
   "execution_count": 9,
   "metadata": {},
   "outputs": [],
   "source": [
    "for i in range(1,11):\n",
    "    img_dir_path = \"../video-pose dataset/data-meta/train_\" + str(i) + \"_img\"\n",
    "    pose_dir_path = \"../video-pose dataset/data-meta/train_\" + str(i) + \"_label\"\n",
    "\n",
    "    # Images file\n",
    "    img_txt = \"train_set/train_\" + str(i) + \"_img.txt\"\n",
    "    with open(img_txt, \"w\") as file:\n",
    "        for filename in os.listdir(img_dir_path):\n",
    "            path = \"train_\" + str(i) + \"_img/\" + filename\n",
    "            file.write(path + \"\\n\")\n",
    "\n",
    "    # Images file\n",
    "    img_txt = \"train_set/train_\" + str(i) + \"_label.txt\"\n",
    "    with open(img_txt, \"w\") as file:\n",
    "        for filename in os.listdir(pose_dir_path):\n",
    "            path = \"train_\" + str(i) + \"_label/\" + filename\n",
    "            file.write(path + \"\\n\")"
   ]
  }
 ],
 "metadata": {
  "kernelspec": {
   "display_name": "Python 3",
   "language": "python",
   "name": "python3"
  },
  "language_info": {
   "codemirror_mode": {
    "name": "ipython",
    "version": 3
   },
   "file_extension": ".py",
   "mimetype": "text/x-python",
   "name": "python",
   "nbconvert_exporter": "python",
   "pygments_lexer": "ipython3",
   "version": "3.9.13"
  }
 },
 "nbformat": 4,
 "nbformat_minor": 2
}
